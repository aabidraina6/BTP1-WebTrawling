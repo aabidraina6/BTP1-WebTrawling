{
 "cells": [
  {
   "cell_type": "code",
   "execution_count": 2,
   "metadata": {},
   "outputs": [],
   "source": [
    "import networkx as nx\n",
    "import matplotlib.pyplot as plt\n",
    "\n",
    "i = 4\n",
    "j = 7"
   ]
  },
  {
   "cell_type": "code",
   "execution_count": 3,
   "metadata": {},
   "outputs": [],
   "source": [
    "with open('dblpData.txt') as f:\n",
    "    edges_pair = f.readlines()"
   ]
  },
  {
   "cell_type": "code",
   "execution_count": 4,
   "metadata": {},
   "outputs": [
    {
     "name": "stdout",
     "output_type": "stream",
     "text": [
      "['0 1385743\\n', '0 1385744\\n', '0 3065596\\n', '0 1602847\\n', '0 3235202\\n', '0 3392066\\n', '0 1543646\\n', '0 3515618\\n', '0 3113972\\n', '0 3691721\\n']\n"
     ]
    }
   ],
   "source": [
    "print(edges_pair[:10])"
   ]
  },
  {
   "cell_type": "code",
   "execution_count": 5,
   "metadata": {},
   "outputs": [],
   "source": [
    "edges = []\n",
    "\n",
    "for edge in edges_pair:\n",
    "    if edge == '\\n':\n",
    "        continue\n",
    "    edge = edge.strip(\" ()\\n\").replace(\"'\" , \"\").split(',')\n",
    "    edge = edge[0].split()\n",
    "    # print(edge)\n",
    "    edges.append((int(edge[0]) , int(edge[1])))\n"
   ]
  },
  {
   "cell_type": "code",
   "execution_count": 6,
   "metadata": {},
   "outputs": [
    {
     "name": "stdout",
     "output_type": "stream",
     "text": [
      "[(0, 1385743), (0, 1385744), (0, 3065596), (0, 1602847), (0, 3235202), (0, 3392066), (0, 1543646), (0, 3515618), (0, 3113972), (0, 3691721)]\n"
     ]
    }
   ],
   "source": [
    "print(edges[:10])"
   ]
  },
  {
   "cell_type": "code",
   "execution_count": 7,
   "metadata": {},
   "outputs": [
    {
     "name": "stdout",
     "output_type": "stream",
     "text": [
      "50244\n"
     ]
    }
   ],
   "source": [
    "tm = 0\n",
    "od_temp = {}\n",
    "for edge in edges:\n",
    "    if edge[0] not in od_temp:\n",
    "        od_temp[edge[0]] = 0\n",
    "    od_temp[edge[0]] += 1\n",
    "    tm = max(tm , od_temp[edge[0]])\n",
    "\n",
    "print(tm)"
   ]
  },
  {
   "cell_type": "code",
   "execution_count": 8,
   "metadata": {},
   "outputs": [],
   "source": [
    "# edges_temp = []\n",
    "# print(len(edges))\n",
    "# for edge in edges:\n",
    "#     if od_temp[edge[0]] <= 60:\n",
    "#         edges_temp.append(edge)\n",
    "\n",
    "# print(len(edges_temp))\n",
    "# edges = edges_temp"
   ]
  },
  {
   "cell_type": "code",
   "execution_count": 9,
   "metadata": {},
   "outputs": [],
   "source": [
    "temp_indeg = {}\n",
    "for edge in edges:\n",
    "    if edge[1] not in temp_indeg:\n",
    "        temp_indeg[edge[1]] = 0\n",
    "\n",
    "    temp_indeg[edge[1]] +=1"
   ]
  },
  {
   "cell_type": "code",
   "execution_count": 14,
   "metadata": {},
   "outputs": [
    {
     "data": {
      "image/png": "[encoded data removed]",
      "text/plain": [
       "<Figure size 800x600 with 1 Axes>"
      ]
     },
     "metadata": {},
     "output_type": "display_data"
    }
   ],
   "source": [
    "import matplotlib.pyplot as plt\n",
    "import numpy as np\n",
    "\n",
    "# Assuming temp_indeg is a dictionary with destination nodes as keys and their corresponding indegrees as values\n",
    "\n",
    "# Calculate frequency of each indegree\n",
    "indeg_freq = {}\n",
    "for st in temp_indeg.values():\n",
    "    if st not in indeg_freq:\n",
    "        indeg_freq[st] = 0\n",
    "    indeg_freq[st] += 1\n",
    "\n",
    "# Separate indegrees and frequencies\n",
    "indegree = list(indeg_freq.keys())\n",
    "freq = list(indeg_freq.values())\n",
    "\n",
    "# Calculate logarithm of indegrees and frequencies\n",
    "log_indegree = np.log10(indegree)\n",
    "log_frequency = np.log10(freq)\n",
    "\n",
    "# Plot log(indegree) vs log(frequency)\n",
    "plt.figure(figsize=(8, 6))\n",
    "plt.scatter(log_indegree, log_frequency, color='blue')\n",
    "plt.title('Log(Indegree) vs Log(Frequency)')\n",
    "plt.xlabel('Log(Indegree)')\n",
    "plt.ylabel('Log(Frequency)')\n",
    "plt.grid(True)\n",
    "plt.show()\n"
   ]
  },
  {
   "cell_type": "code",
   "execution_count": 9,
   "metadata": {},
   "outputs": [
    {
     "name": "stdout",
     "output_type": "stream",
     "text": [
      "13224047\n",
      "13212006\n"
     ]
    }
   ],
   "source": [
    "edges_temp = []\n",
    "print(len(edges))\n",
    "for edge in edges:\n",
    "    if temp_indeg[edge[1]] <= 60:\n",
    "        edges_temp.append(edge)\n",
    "\n",
    "print(len(edges_temp))\n",
    "edges = edges_temp"
   ]
  },
  {
   "cell_type": "code",
   "execution_count": 10,
   "metadata": {},
   "outputs": [],
   "source": [
    "class GraphWithVisualization():\n",
    "    def __init__(self):\n",
    "        self.visual = []\n",
    "    \n",
    "    def addEdge(self , a , b):\n",
    "        temp = [a , b]\n",
    "        self.visual.append(temp)\n",
    "\n",
    "    def visualize(self):\n",
    "        G = nx.Graph()\n",
    "        G.add_edges_from(self.visual)\n",
    "        nx.draw_networkx(G)\n",
    "        plt.show()\n",
    "\n",
    "\n",
    "        \n",
    "        \n"
   ]
  },
  {
   "cell_type": "code",
   "execution_count": 11,
   "metadata": {},
   "outputs": [],
   "source": [
    "G = GraphWithVisualization()\n",
    "for it in range(20):\n",
    "    G.addEdge(edges[it][0] , edges[it][1])\n",
    "# G.visualize()\n",
    "# G = nx.Graph()\n",
    "# G.add_edges_from(edges[100:])\n",
    "# nx.draw_networkx(G)\n",
    "# plt.show()\n"
   ]
  },
  {
   "cell_type": "code",
   "execution_count": 12,
   "metadata": {},
   "outputs": [],
   "source": [
    "import graphviz\n",
    "dot =  graphviz.Digraph()\n",
    "\n",
    "for node in G.visual:\n",
    "    dot.node(str(node[0]))\n",
    "    dot.node(str(node[1]))\n",
    "    dot.edge(str(node[0]) , str(node[1]))\n",
    "\n",
    "# dot.render('graph.pdf' , view=True)\n"
   ]
  },
  {
   "cell_type": "code",
   "execution_count": 13,
   "metadata": {},
   "outputs": [],
   "source": [
    "from collections import defaultdict\n",
    "\n",
    "class Graph:\n",
    "    def __init__(self):\n",
    "        self.graph = defaultdict(list)\n",
    "\n",
    "    def add_edge(self, u, v):\n",
    "        self.graph[u].append(v)\n",
    "\n",
    "    def potential_fan_pages(self):\n",
    "        fan_pages = []\n",
    "        for node in self.graph:\n",
    "            if len(self.graph[node]) >= 6:\n",
    "                fan_pages.append(node)\n",
    "        return fan_pages\n",
    "\n",
    "# Function to read edges from input and construct the graph\n",
    "def construct_graph(edges):\n",
    "    g = Graph()\n",
    "    for u, v in edges:\n",
    "        g.add_edge(u, v)\n",
    "    return g\n",
    "\n",
    "\n"
   ]
  },
  {
   "cell_type": "code",
   "execution_count": 14,
   "metadata": {},
   "outputs": [],
   "source": [
    "# Construct the graph\n",
    "# g = construct_graph(edges)\n",
    "\n",
    "# # Find potential fan pages\n",
    "# fan_pages = g.potential_fan_pages()\n",
    "\n",
    "# # Display potential fan pages\n",
    "# print(len(fan_pages))"
   ]
  },
  {
   "cell_type": "code",
   "execution_count": 15,
   "metadata": {},
   "outputs": [
    {
     "name": "stdout",
     "output_type": "stream",
     "text": [
      "13212006\n",
      "4113515\n"
     ]
    }
   ],
   "source": [
    "print(len(edges))\n",
    "out = 1e4\n",
    "\n",
    "remove = []\n",
    "forward = True\n",
    "counts ={}\n",
    "threshold_ = 20\n",
    "\n",
    "while out > threshold_:\n",
    "    remove = []\n",
    "    out = 0\n",
    "    if forward:\n",
    "        edges = sorted(edges , key=lambda x: x[0])\n",
    "    else:\n",
    "        edges = sorted(edges , key=lambda x : x[1])\n",
    "\n",
    "    counts = {}\n",
    "    for edge in edges:\n",
    "        if forward:\n",
    "            first_element = edge[0]\n",
    "        else:\n",
    "            first_element = edge[1]\n",
    "        \n",
    "        if first_element not in counts:\n",
    "            counts[first_element] = 0\n",
    "        \n",
    "        counts[first_element] += 1\n",
    "    counts_list  = list(counts.items())\n",
    "    sorted_counts = sorted(counts_list , key=lambda x:x[1] )\n",
    "    if forward:\n",
    "        filtered_tuples = [t for t in edges  if counts[t[0]] >= j]\n",
    "    else:\n",
    "        filtered_tuples = [t for t in edges if counts[t[1]] >= i]\n",
    "    out = len(edges) - len(filtered_tuples)\n",
    "    edges = filtered_tuples\n",
    "    forward = not forward\n",
    "\n",
    "print(len(edges))\n",
    "\n",
    "\n",
    "\n",
    "\n",
    "\n",
    "\n",
    "\n",
    "\n"
   ]
  },
  {
   "cell_type": "code",
   "execution_count": 16,
   "metadata": {},
   "outputs": [
    {
     "name": "stdout",
     "output_type": "stream",
     "text": [
      "60\n"
     ]
    }
   ],
   "source": [
    "tm = 0\n",
    "fans_outdegree = {}\n",
    "for edge in edges:\n",
    "    if edge[0] not in fans_outdegree:\n",
    "        fans_outdegree[edge[0]] = 0\n",
    "    fans_outdegree[edge[0]] += 1\n",
    "    tm = max(tm , fans_outdegree[edge[0]])\n",
    "\n",
    "print(tm)"
   ]
  },
  {
   "cell_type": "code",
   "execution_count": 17,
   "metadata": {},
   "outputs": [],
   "source": [
    "def build_index(graph, threshold):\n",
    "    index = {}  # Initialize index\n",
    "    print(threshold)\n",
    "\n",
    "    # Iterate through edges in the graph\n",
    "    for edge in graph:\n",
    "        fan = edge[0]\n",
    "        center = edge[1]\n",
    "\n",
    "        # Check if the fan's out-degree matches the threshold (j)\n",
    "        if fans_outdegree[fan] == threshold:\n",
    "            # Add the fan to the index under the corresponding center\n",
    "            if center not in index:\n",
    "                index[center] = set()\n",
    "            index[center].add(fan)\n",
    "\n",
    "    return index\n",
    "\n",
    "# Pseudo code:\n",
    "# Initialize an empty index dictionary\n",
    "# Iterate through edges in the graph\n",
    "#   Check if the out-degree of the fan matches the threshold\n",
    "#       Add the fan to the index under the corresponding center\n",
    "# Return the index\n"
   ]
  },
  {
   "cell_type": "code",
   "execution_count": 18,
   "metadata": {},
   "outputs": [
    {
     "name": "stdout",
     "output_type": "stream",
     "text": [
      "7\n"
     ]
    }
   ],
   "source": [
    "small_index = build_index(edges , j) # fans outdegree matches j"
   ]
  },
  {
   "cell_type": "code",
   "execution_count": 19,
   "metadata": {},
   "outputs": [
    {
     "name": "stdout",
     "output_type": "stream",
     "text": [
      "192448\n"
     ]
    }
   ],
   "source": [
    "print(len(small_index))"
   ]
  },
  {
   "cell_type": "code",
   "execution_count": 20,
   "metadata": {},
   "outputs": [],
   "source": [
    "set_all = set()\n",
    "\n",
    "for edge in edges:\n",
    "    set_all.add(edge[0])"
   ]
  },
  {
   "cell_type": "code",
   "execution_count": 21,
   "metadata": {},
   "outputs": [],
   "source": [
    "# inclusion-exclusion pruninng\n",
    "\n",
    "def inclusion_exclusion_pruning(graph, small_index):\n",
    "    # Initialize sets for each fan\n",
    "    sets = {} #S(x)\n",
    "\n",
    "        \n",
    "        \n",
    "    \n",
    "\n",
    "    # Sort edges by destination\n",
    "    sorted_edges = sorted(graph, key=lambda x: x[1])\n",
    "\n",
    "    # Iterate through edges\n",
    "    for edge in sorted_edges:\n",
    "        y = edge[1]\n",
    "        if y in small_index:\n",
    "            # For each degree j fan x adjacent to y\n",
    "            for fan in small_index[y]:\n",
    "                if fan not in sets:\n",
    "                    sets[fan] = set()\n",
    "                    for dd in small_index[y]:\n",
    "                        sets[fan].add(dd)\n",
    "                # Intersect the set of fans adjacent to y with the set corresponding to x\n",
    "                sets[fan].intersection_update(small_index[y]) #!small_index[y] is N(y) and sets[fan] is S(x)\n",
    "\n",
    "    return sets\n",
    "\n",
    "\n",
    "\n",
    "# Pseudo code:\n",
    "# Initialize sets corresponding to each fan\n",
    "# Sort edges by destination\n",
    "# Iterate through sorted edges\n",
    "#   Check if destination is in the small index\n",
    "#   If yes, iterate through adjacent fans with the desired degree\n",
    "#       Intersect the set of fans adjacent to y with the set corresponding to x\n",
    "# Return sets\n"
   ]
  },
  {
   "cell_type": "code",
   "execution_count": 22,
   "metadata": {},
   "outputs": [],
   "source": [
    "edge_list_fan = {}\n",
    "\n",
    "for source , dest in edges:\n",
    "    if source not in edge_list_fan:\n",
    "        edge_list_fan[source] = set()\n",
    "    edge_list_fan[source].add(dest)"
   ]
  },
  {
   "cell_type": "code",
   "execution_count": 23,
   "metadata": {},
   "outputs": [
    {
     "name": "stdout",
     "output_type": "stream",
     "text": [
      "4113515 192448\n"
     ]
    }
   ],
   "source": [
    "print(len(edges) , len(small_index))"
   ]
  },
  {
   "cell_type": "code",
   "execution_count": 24,
   "metadata": {},
   "outputs": [],
   "source": [
    "# run inc-exc pruning\n",
    "\n",
    "sets_done = inclusion_exclusion_pruning(edges , small_index)\n",
    "  \n"
   ]
  },
  {
   "cell_type": "code",
   "execution_count": 25,
   "metadata": {},
   "outputs": [
    {
     "name": "stdout",
     "output_type": "stream",
     "text": [
      "35092\n"
     ]
    }
   ],
   "source": [
    "print(len(sets_done))"
   ]
  },
  {
   "cell_type": "code",
   "execution_count": 26,
   "metadata": {},
   "outputs": [
    {
     "name": "stdout",
     "output_type": "stream",
     "text": [
      "4 7\n"
     ]
    }
   ],
   "source": [
    "print(i , j)"
   ]
  },
  {
   "cell_type": "code",
   "execution_count": 27,
   "metadata": {},
   "outputs": [
    {
     "name": "stdout",
     "output_type": "stream",
     "text": [
      "<class 'dict'>\n"
     ]
    }
   ],
   "source": [
    "cores = []\n",
    "fans_to_remove= []\n",
    "\n",
    "print(type(sets_done))\n",
    "for fan , fan_set in sets_done.items():\n",
    "    if(len(fan_set) >= i):\n",
    "        cores.append(list(fan_set))\n",
    "        \n",
    "        # core found \n",
    "        # prune \n",
    "        pass\n",
    "    #prune fan\n",
    "    fans_to_remove.append(fan)\n"
   ]
  },
  {
   "cell_type": "code",
   "execution_count": 28,
   "metadata": {},
   "outputs": [
    {
     "name": "stdout",
     "output_type": "stream",
     "text": [
      "1656\n"
     ]
    }
   ],
   "source": [
    "print(len(cores))"
   ]
  },
  {
   "cell_type": "code",
   "execution_count": 29,
   "metadata": {},
   "outputs": [],
   "source": [
    "def find_intersection(source_nodes , edge_list_ll):\n",
    "    intersc = set(edge_list_ll[source_nodes[0]])\n",
    "    for node in source_nodes:\n",
    "        intersc.intersection_update(edge_list_ll[node])\n",
    "    \n",
    "    return intersc"
   ]
  },
  {
   "cell_type": "code",
   "execution_count": 30,
   "metadata": {},
   "outputs": [],
   "source": [
    "cores_full = []\n",
    "for temp in cores:\n",
    "    tt = find_intersection(temp , edge_list_fan)\n",
    "    cores_full.append((temp , list(tt)))\n"
   ]
  },
  {
   "cell_type": "code",
   "execution_count": 31,
   "metadata": {},
   "outputs": [
    {
     "name": "stdout",
     "output_type": "stream",
     "text": [
      "1656\n"
     ]
    }
   ],
   "source": [
    "print(len(cores_full))"
   ]
  },
  {
   "cell_type": "code",
   "execution_count": 32,
   "metadata": {},
   "outputs": [],
   "source": [
    "fans_to_remove_set  = set(fans_to_remove)"
   ]
  },
  {
   "cell_type": "code",
   "execution_count": 33,
   "metadata": {},
   "outputs": [
    {
     "name": "stdout",
     "output_type": "stream",
     "text": [
      "35092\n"
     ]
    }
   ],
   "source": [
    "print(len(fans_to_remove_set))"
   ]
  },
  {
   "cell_type": "code",
   "execution_count": 34,
   "metadata": {},
   "outputs": [
    {
     "name": "stdout",
     "output_type": "stream",
     "text": [
      "4113515\n"
     ]
    }
   ],
   "source": [
    "print(len(edges))\n",
    "new_edges = []\n",
    "\n",
    "for edge in edges:\n",
    "    if edge[0] in fans_to_remove_set:\n",
    "        continue\n",
    "    else:\n",
    "        new_edges.append(edge)\n"
   ]
  },
  {
   "cell_type": "code",
   "execution_count": 35,
   "metadata": {},
   "outputs": [],
   "source": [
    "# file_path = 'mid.txt'\n",
    "# with open(file_path, 'w') as file:\n",
    "#     for edge in edges:\n",
    "#         file.write(f\"{edge[0]} {edge[1]}\\n\")"
   ]
  },
  {
   "cell_type": "code",
   "execution_count": 36,
   "metadata": {},
   "outputs": [
    {
     "name": "stdout",
     "output_type": "stream",
     "text": [
      "3867871\n",
      "3867871\n"
     ]
    }
   ],
   "source": [
    "print(len(new_edges))\n",
    "edges = new_edges.copy()\n",
    "print(len(edges))\n",
    "\n"
   ]
  },
  {
   "cell_type": "code",
   "execution_count": 37,
   "metadata": {},
   "outputs": [],
   "source": [
    "import networkx as nx\n",
    "import matplotlib.pyplot as plt"
   ]
  },
  {
   "cell_type": "code",
   "execution_count": 38,
   "metadata": {},
   "outputs": [],
   "source": [
    "# i = 6\n",
    "# j = 6\n",
    "# new_edges = []\n",
    "# file_path = 'mid.txt'\n",
    "# with open(file_path, 'r') as file:\n",
    "#     for line in file:\n",
    "#         # Splitting each line into source and destination and converting them to integers\n",
    "#         source, destination = map(int, line.strip().split())\n",
    "#         # Adding the edge to the list\n",
    "#         new_edges.append((source, destination))"
   ]
  },
  {
   "cell_type": "code",
   "execution_count": 39,
   "metadata": {},
   "outputs": [
    {
     "name": "stdout",
     "output_type": "stream",
     "text": [
      "(19, 23)\n"
     ]
    }
   ],
   "source": [
    "print(new_edges[0])"
   ]
  },
  {
   "cell_type": "code",
   "execution_count": 40,
   "metadata": {},
   "outputs": [],
   "source": [
    "centers_indegree = {}\n",
    "dt = 0\n",
    "for edge in new_edges:\n",
    "    if edge[1] not in centers_indegree:\n",
    "        centers_indegree[edge[1]] = 0\n",
    "\n",
    "    centers_indegree[edge[1]] +=1\n",
    "    dt = max(dt , centers_indegree[edge[1]])"
   ]
  },
  {
   "cell_type": "code",
   "execution_count": 41,
   "metadata": {},
   "outputs": [
    {
     "name": "stdout",
     "output_type": "stream",
     "text": [
      "522141\n",
      "59\n"
     ]
    }
   ],
   "source": [
    "print(len(centers_indegree))\n",
    "print(dt)"
   ]
  },
  {
   "cell_type": "code",
   "execution_count": 42,
   "metadata": {},
   "outputs": [],
   "source": [
    "def build_index_centers(graph , threshold):\n",
    "    print(threshold)\n",
    "    index_center = {}\n",
    "\n",
    "    for edge in graph:\n",
    "        fan = edge[0]\n",
    "        center = edge[1]\n",
    "\n",
    "        if centers_indegree[center] == threshold:\n",
    "            if fan not in index_center:\n",
    "                index_center[fan] = set()\n",
    "            index_center[fan].add(center)\n",
    "\n",
    "    return index_center"
   ]
  },
  {
   "cell_type": "code",
   "execution_count": 43,
   "metadata": {},
   "outputs": [
    {
     "name": "stdout",
     "output_type": "stream",
     "text": [
      "3867871\n"
     ]
    }
   ],
   "source": [
    "\n",
    "print(len(new_edges))"
   ]
  },
  {
   "cell_type": "code",
   "execution_count": 44,
   "metadata": {},
   "outputs": [
    {
     "name": "stdout",
     "output_type": "stream",
     "text": [
      "4\n"
     ]
    }
   ],
   "source": [
    "small_index_center = build_index_centers(new_edges , i)"
   ]
  },
  {
   "cell_type": "code",
   "execution_count": 45,
   "metadata": {},
   "outputs": [
    {
     "name": "stdout",
     "output_type": "stream",
     "text": [
      "24\n"
     ]
    }
   ],
   "source": [
    "ddd = 0\n",
    "for s in small_index_center.values():\n",
    "    ddd = max(ddd , len(s))\n",
    "print(ddd)"
   ]
  },
  {
   "cell_type": "code",
   "execution_count": 46,
   "metadata": {},
   "outputs": [
    {
     "name": "stdout",
     "output_type": "stream",
     "text": [
      "158840\n"
     ]
    }
   ],
   "source": [
    "print(len(small_index_center))"
   ]
  },
  {
   "cell_type": "code",
   "execution_count": 47,
   "metadata": {},
   "outputs": [],
   "source": [
    "set_all_center = set()\n",
    "\n",
    "for edge in new_edges:\n",
    "    set_all_center.add(edge[1])"
   ]
  },
  {
   "cell_type": "code",
   "execution_count": null,
   "metadata": {},
   "outputs": [],
   "source": []
  },
  {
   "cell_type": "code",
   "execution_count": 48,
   "metadata": {},
   "outputs": [],
   "source": [
    "def inclusion_exclusion_pruning_center(graph , small_index_center):\n",
    "    sets_center  = {}\n",
    "\n",
    "    sorted_edges_cn = sorted(graph , key = lambda x : x[0])\n",
    "    print('here')\n",
    "\n",
    "    for edge in sorted_edges_cn:\n",
    "        y = edge[0]\n",
    "        if y in small_index_center:\n",
    "            for cn in small_index_center[y]:\n",
    "                if cn not in sets_center:\n",
    "                    sets_center[cn] = set()\n",
    "                    for ddd in small_index_center[y]:\n",
    "                        sets_center[cn].add(ddd)\n",
    "                sets_center[cn].intersection_update(small_index_center[y])\n",
    "    return sets_center\n",
    "                \n",
    "\n",
    "            \n"
   ]
  },
  {
   "cell_type": "code",
   "execution_count": 49,
   "metadata": {},
   "outputs": [
    {
     "name": "stdout",
     "output_type": "stream",
     "text": [
      "3867871\n",
      "158840\n"
     ]
    }
   ],
   "source": [
    "print(len(new_edges))\n",
    "print(len(small_index_center))"
   ]
  },
  {
   "cell_type": "code",
   "execution_count": 50,
   "metadata": {},
   "outputs": [],
   "source": [
    "edge_list_source = {}\n",
    "\n",
    "for source , dest in new_edges:\n",
    "    if dest not in edge_list_source:\n",
    "        edge_list_source[dest] = set()\n",
    "    edge_list_source[dest].add(source)"
   ]
  },
  {
   "cell_type": "code",
   "execution_count": 51,
   "metadata": {},
   "outputs": [
    {
     "name": "stdout",
     "output_type": "stream",
     "text": [
      "24\n"
     ]
    }
   ],
   "source": [
    "mm  = 0\n",
    "for dd in small_index_center.values():\n",
    "    mm = max(mm , len(dd))\n",
    "print(mm)"
   ]
  },
  {
   "cell_type": "code",
   "execution_count": 52,
   "metadata": {},
   "outputs": [
    {
     "name": "stdout",
     "output_type": "stream",
     "text": [
      "here\n"
     ]
    }
   ],
   "source": [
    "st_dd = inclusion_exclusion_pruning_center(new_edges , small_index_center)"
   ]
  },
  {
   "cell_type": "code",
   "execution_count": 53,
   "metadata": {},
   "outputs": [
    {
     "name": "stdout",
     "output_type": "stream",
     "text": [
      "4 7\n"
     ]
    }
   ],
   "source": [
    "print(i , j)"
   ]
  },
  {
   "cell_type": "code",
   "execution_count": 54,
   "metadata": {},
   "outputs": [
    {
     "name": "stdout",
     "output_type": "stream",
     "text": [
      "129947\n"
     ]
    }
   ],
   "source": [
    "print(len(st_dd))"
   ]
  },
  {
   "cell_type": "code",
   "execution_count": 55,
   "metadata": {},
   "outputs": [],
   "source": [
    "cores = []\n",
    "center_to_remove = []\n",
    "\n",
    "for center , center_set in st_dd.items():\n",
    "    if(len(center_set) >= j):\n",
    "        cores.append(list(center_set))\n",
    "    center_to_remove.append(center)"
   ]
  },
  {
   "cell_type": "code",
   "execution_count": 56,
   "metadata": {},
   "outputs": [
    {
     "name": "stdout",
     "output_type": "stream",
     "text": [
      "9887\n"
     ]
    }
   ],
   "source": [
    "print(len(cores))"
   ]
  },
  {
   "cell_type": "code",
   "execution_count": 57,
   "metadata": {},
   "outputs": [],
   "source": [
    "def find_intersection_center(source_nodes , edgeList):\n",
    "    inters = set(edgeList[source_nodes[0]])\n",
    "    for node in source_nodes:\n",
    "        inters.intersection_update(edgeList[node])\n",
    "    return inters"
   ]
  },
  {
   "cell_type": "code",
   "execution_count": 58,
   "metadata": {},
   "outputs": [],
   "source": [
    "cores_news = []\n",
    "\n",
    "for temp in cores:\n",
    "    ttd = find_intersection_center(temp , edge_list_source)\n",
    "    cores_news.append((list(ttd) , (temp)))"
   ]
  },
  {
   "cell_type": "code",
   "execution_count": 59,
   "metadata": {},
   "outputs": [
    {
     "name": "stdout",
     "output_type": "stream",
     "text": [
      "([1930, 1931, 399206, 262815], [399207, 399208, 399209, 399210, 399211, 399212, 399213, 399214])\n"
     ]
    }
   ],
   "source": [
    "print((cores_news)[0])"
   ]
  },
  {
   "cell_type": "code",
   "execution_count": 60,
   "metadata": {},
   "outputs": [
    {
     "name": "stdout",
     "output_type": "stream",
     "text": [
      "([93083, 93084, 93085, 93086], [93088, 93089, 93090, 93091, 93092, 93093, 93087])\n"
     ]
    }
   ],
   "source": [
    "print(cores_full[0])"
   ]
  },
  {
   "cell_type": "code",
   "execution_count": 61,
   "metadata": {},
   "outputs": [
    {
     "name": "stdout",
     "output_type": "stream",
     "text": [
      "9887\n",
      "1656\n",
      "11543\n"
     ]
    }
   ],
   "source": [
    "print(len(cores_news))\n",
    "print(len(cores_full))\n",
    "print(len(cores_full) + len(cores_news))"
   ]
  },
  {
   "cell_type": "code",
   "execution_count": 62,
   "metadata": {},
   "outputs": [
    {
     "name": "stdout",
     "output_type": "stream",
     "text": [
      "4 7\n"
     ]
    }
   ],
   "source": [
    "print(i , j)"
   ]
  },
  {
   "cell_type": "code",
   "execution_count": 63,
   "metadata": {},
   "outputs": [],
   "source": [
    "with open('op4.txt' , 'w') as f:\n",
    "    f.write(f'cores_news : {cores_news} | cores_full : {cores_full}')"
   ]
  },
  {
   "cell_type": "code",
   "execution_count": 11,
   "metadata": {},
   "outputs": [
    {
     "data": {
      "image/png": "[encoded data removed]",
      "text/plain": [
       "<Figure size 1000x600 with 1 Axes>"
      ]
     },
     "metadata": {},
     "output_type": "display_data"
    }
   ],
   "source": [
    "import matplotlib.pyplot as plt\n",
    "\n",
    "# Given data\n",
    "data = {(3 , 3) : 110740 , \n",
    "\n",
    "\n",
    "(3 , 5) : 41902 , \n",
    "\n",
    "(3 , 7) : 20465 , \n",
    "\n",
    "(4 , 3) : 60982 , \n",
    "\n",
    "(4 , 5) : 23930 , \n",
    "\n",
    "(4 , 7) : 11543 , \n",
    "\n",
    "(5  , 3) : 37890 , \n",
    "\n",
    "(5, 5) : \n",
    " 16042 , \n",
    "\n",
    "(5, 7) : \n",
    " 8482 , \n",
    "\n",
    "(5, 9) : \n",
    " 5052 , \n",
    "\n",
    "(6, 3) : \n",
    " 25225 , \n",
    "\n",
    "(6, 5) : \n",
    " 11973 , \n",
    "\n",
    "(6, 7) : \n",
    " 7254 , \n",
    "\n",
    "(6, 9) : \n",
    " 4878   , \n",
    " (3 , 9) : 11708 , \n",
    " (4, 9) : 6762\n",
    " }\n",
    "\n",
    "\n",
    "# Extract j values\n",
    "j_values = sorted(set(key[1] for key in data.keys()))\n",
    "\n",
    "# Plot each j with its corresponding number of cores\n",
    "plt.figure(figsize=(10, 6))\n",
    "for j in j_values:\n",
    "    cores = [data.get((i, j), 0) for i in range(min(data.keys())[0], max(data.keys())[0] + 1)]\n",
    "    plt.plot(range(min(data.keys())[0], max(data.keys())[0] + 1), cores, marker='o', label=f'j = {j}')\n",
    "\n",
    "plt.xlabel('i')\n",
    "plt.ylabel('Number of Cores')\n",
    "plt.title('Number of Cores as a Function of i for Different j')\n",
    "plt.legend()\n",
    "plt.grid(True)\n",
    "plt.show()\n"
   ]
  }
 ],
 "metadata": {
  "kernelspec": {
   "display_name": "Python 3",
   "language": "python",
   "name": "python3"
  },
  "language_info": {
   "codemirror_mode": {
    "name": "ipython",
    "version": 3
   },
   "file_extension": ".py",
   "mimetype": "text/x-python",
   "name": "python",
   "nbconvert_exporter": "python",
   "pygments_lexer": "ipython3",
   "version": "3.10.12"
  }
 },
 "nbformat": 4,
 "nbformat_minor": 2
}
